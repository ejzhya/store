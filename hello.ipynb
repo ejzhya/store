{
 "cells": [
  {
   "attachments": {},
   "cell_type": "markdown",
   "metadata": {},
   "source": [
    "use notebook to run the c++ file however there is no main\n",
    "# jupyter notebook --no-browser"
   ]
  },
  {
   "attachments": {},
   "cell_type": "markdown",
   "metadata": {},
   "source": [
    "# cout and endl"
   ]
  },
  {
   "cell_type": "code",
   "execution_count": null,
   "metadata": {
    "vscode": {
     "languageId": "c++"
    }
   },
   "outputs": [],
   "source": [
    "//the usage of cout and endl,cout-->display; endl-->produce a blank space like enter;\n",
    "#include <iostream>\n",
    "int main(){\n",
    "    using namespace std;\n",
    "    cout<<\"Hi there, I am shujia Huang from shenzhen, guangdong, china\"<<endl;\n",
    "   \n",
    "    int a;\n",
    "    a=10;\n",
    "    cout<<\"hello  world\"<<a<<\"bad\"<<endl;//c++里面要用双引号“ ”\n",
    "    \n",
    "    return 0;\n",
    "}"
   ]
  },
  {
   "attachments": {},
   "cell_type": "markdown",
   "metadata": {},
   "source": [
    "# cmath"
   ]
  },
  {
   "cell_type": "code",
   "execution_count": null,
   "metadata": {
    "vscode": {
     "languageId": "cpp"
    }
   },
   "outputs": [],
   "source": [
    "#include <iostream>\n",
    "#include <cmath>\n",
    "int main(){\n",
    "    using namespace std;\n",
    "    double area,side;\n",
    "    cout<<\"Enter the floor area, in square feet, of your home: \";\n",
    "    cin>>area;\n",
    "    side =sqrt(area);\n",
    "    cout << \"That's the equivalent of a square \"<<side \n",
    "        <<\"feet to the side.\"<<endl;\n",
    "    cout << \"How fascinating!\"<<endl;\n",
    "    return 0;\n",
    "}"
   ]
  },
  {
   "attachments": {},
   "cell_type": "markdown",
   "metadata": {},
   "source": [
    "# basic grammar\n",
    "//bool variable true or false\n",
    "<br>//非0即true\n",
    "//const 常量限定符，const int Months =12;初始化后编译器将不允许修改该常量"
   ]
  }
 ],
 "metadata": {
  "kernelspec": {
   "display_name": "C++14",
   "language": "C++14",
   "name": "xcpp14"
  },
  "language_info": {
   "codemirror_mode": "text/x-c++src",
   "file_extension": ".cpp",
   "mimetype": "text/x-c++src",
   "name": "C++14",
   "version": "14"
  },
  "orig_nbformat": 4,
  "vscode": {
   "interpreter": {
    "hash": "2e3e2c53e9220e95821555be5e0c48e39113e74ea4f74314a7483b23e3385100"
   }
  }
 },
 "nbformat": 4,
 "nbformat_minor": 2
}
